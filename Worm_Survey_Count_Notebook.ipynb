{
  "cells": [
    {
      "cell_type": "markdown",
      "metadata": {},
      "source": [
        "## ArmyWorm Survey County Visualization by Number of Records\n"
      ]
    },
    {
      "cell_type": "code",
      "execution_count": 1,
      "metadata": {
        "trusted": true
      },
      "outputs": [],
      "source": [
        "from arcgis.gis import GIS\n",
        "from arcgis.features import FeatureLayer, FeatureLayerCollection\n",
        "import pandas as pd\n",
        "gis = GIS(\"home\")"
      ]
    },
    {
      "cell_type": "code",
      "execution_count": 2,
      "metadata": {
        "trusted": true
      },
      "outputs": [],
      "source": [
        "# USA Census Counties filtered to Counties in South Carolina. Source: https://services.arcgis.com/P3ePLMYs2RVChkJx/arcgis/rest/services/USA_Census_Counties/FeatureServer\n",
        "counties_url = \"https://services1.arcgis.com/x5wCko8UnSi4h0CB/arcgis/rest/services/SC_Counties_bdry_for_worms/FeatureServer/0\"\n",
        "\n",
        "# Output Layer from survey created in Survey123. The user can select a county in South Carolina from a drop-down question which creates a record in a polygon feature class.\n",
        "submissions_url = \"https://services1.arcgis.com/x5wCko8UnSi4h0CB/arcgis/rest/services/survey123_97a168972b8e4fd08374d6a18e44c436/FeatureServer/0\"\n",
        "\n",
        "counties_layer = FeatureLayer(counties_url)\n",
        "submissions_layer = FeatureLayer(submissions_url)"
      ]
    },
    {
      "cell_type": "code",
      "execution_count": 3,
      "metadata": {
        "trusted": true
      },
      "outputs": [],
      "source": [
        "# Query all submissions with county column (what_county_was_the_fall_armywo)\n",
        "submissions = submissions_layer.query(where=\"1=1\", out_fields=\"what_county_was_the_fall_armywo\", return_geometry=False)\n",
        "sub_df = submissions.sdf\n",
        "\n",
        "# Count how many submissions per county\n",
        "sub_counts = sub_df['what_county_was_the_fall_armywo'].value_counts().to_dict()"
      ]
    },
    {
      "cell_type": "code",
      "execution_count": 4,
      "metadata": {
        "trusted": true
      },
      "outputs": [
        {
          "name": "stdout",
          "output_type": "stream",
          "text": [
            "Submission counts updated: {'addResults': [], 'updateResults': [{'objectId': 1, 'uniqueId': 1, 'globalId': None, 'success': True}, {'objectId': 2, 'uniqueId': 2, 'globalId': None, 'success': True}, {'objectId': 3, 'uniqueId': 3, 'globalId': None, 'success': True}, {'objectId': 4, 'uniqueId': 4, 'globalId': None, 'success': True}, {'objectId': 5, 'uniqueId': 5, 'globalId': None, 'success': True}, {'objectId': 6, 'uniqueId': 6, 'globalId': None, 'success': True}, {'objectId': 7, 'uniqueId': 7, 'globalId': None, 'success': True}, {'objectId': 8, 'uniqueId': 8, 'globalId': None, 'success': True}, {'objectId': 9, 'uniqueId': 9, 'globalId': None, 'success': True}, {'objectId': 10, 'uniqueId': 10, 'globalId': None, 'success': True}, {'objectId': 11, 'uniqueId': 11, 'globalId': None, 'success': True}, {'objectId': 12, 'uniqueId': 12, 'globalId': None, 'success': True}, {'objectId': 13, 'uniqueId': 13, 'globalId': None, 'success': True}, {'objectId': 14, 'uniqueId': 14, 'globalId': None, 'success': True}, {'objectId': 15, 'uniqueId': 15, 'globalId': None, 'success': True}, {'objectId': 16, 'uniqueId': 16, 'globalId': None, 'success': True}, {'objectId': 17, 'uniqueId': 17, 'globalId': None, 'success': True}, {'objectId': 18, 'uniqueId': 18, 'globalId': None, 'success': True}, {'objectId': 19, 'uniqueId': 19, 'globalId': None, 'success': True}, {'objectId': 20, 'uniqueId': 20, 'globalId': None, 'success': True}, {'objectId': 21, 'uniqueId': 21, 'globalId': None, 'success': True}, {'objectId': 22, 'uniqueId': 22, 'globalId': None, 'success': True}, {'objectId': 23, 'uniqueId': 23, 'globalId': None, 'success': True}, {'objectId': 24, 'uniqueId': 24, 'globalId': None, 'success': True}, {'objectId': 25, 'uniqueId': 25, 'globalId': None, 'success': True}, {'objectId': 26, 'uniqueId': 26, 'globalId': None, 'success': True}, {'objectId': 27, 'uniqueId': 27, 'globalId': None, 'success': True}, {'objectId': 28, 'uniqueId': 28, 'globalId': None, 'success': True}, {'objectId': 29, 'uniqueId': 29, 'globalId': None, 'success': True}, {'objectId': 30, 'uniqueId': 30, 'globalId': None, 'success': True}, {'objectId': 31, 'uniqueId': 31, 'globalId': None, 'success': True}, {'objectId': 32, 'uniqueId': 32, 'globalId': None, 'success': True}, {'objectId': 33, 'uniqueId': 33, 'globalId': None, 'success': True}, {'objectId': 34, 'uniqueId': 34, 'globalId': None, 'success': True}, {'objectId': 35, 'uniqueId': 35, 'globalId': None, 'success': True}, {'objectId': 36, 'uniqueId': 36, 'globalId': None, 'success': True}, {'objectId': 37, 'uniqueId': 37, 'globalId': None, 'success': True}, {'objectId': 38, 'uniqueId': 38, 'globalId': None, 'success': True}, {'objectId': 39, 'uniqueId': 39, 'globalId': None, 'success': True}, {'objectId': 40, 'uniqueId': 40, 'globalId': None, 'success': True}, {'objectId': 41, 'uniqueId': 41, 'globalId': None, 'success': True}, {'objectId': 42, 'uniqueId': 42, 'globalId': None, 'success': True}, {'objectId': 43, 'uniqueId': 43, 'globalId': None, 'success': True}, {'objectId': 44, 'uniqueId': 44, 'globalId': None, 'success': True}, {'objectId': 45, 'uniqueId': 45, 'globalId': None, 'success': True}, {'objectId': 46, 'uniqueId': 46, 'globalId': None, 'success': True}], 'deleteResults': []}\n"
          ]
        }
      ],
      "source": [
        "# Query all counties\n",
        "counties = counties_layer.query(where=\"1=1\", out_fields=\"NAME,submission_count\", return_geometry=False)\n",
        "county_features = counties.features\n",
        "\n",
        "updates = []\n",
        "\n",
        "for feature in county_features:\n",
        "    attrs = feature.attributes\n",
        "    county_name = attrs['NAME']\n",
        "    count = sub_counts.get(county_name, 0)\n",
        "    attrs['submission_count'] = count\n",
        "    updates.append(feature)\n",
        "\n",
        "# Apply the updates to the counties layer\n",
        "results = counties_layer.edit_features(updates=updates)\n",
        "print(\"Submission counts updated:\", results)"
      ]
    }
  ],
  "metadata": {
    "esriNotebookRuntime": {
      "notebookRuntimeName": "ArcGIS Notebook Python 3 Standard",
      "notebookRuntimeVersion": "12.0"
    },
    "kernelspec": {
      "display_name": "Python 3 (ipykernel)",
      "language": "python",
      "name": "python3"
    },
    "language_info": {
      "codemirror_mode": {
        "name": "ipython",
        "version": 3
      },
      "file_extension": ".py",
      "mimetype": "text/x-python",
      "name": "python",
      "nbconvert_exporter": "python",
      "pygments_lexer": "ipython3",
      "version": "3.11.11"
    }
  },
  "nbformat": 4,
  "nbformat_minor": 4
}
